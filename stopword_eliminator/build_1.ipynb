{
 "cells": [
  {
   "cell_type": "code",
   "id": "initial_id",
   "metadata": {
    "collapsed": true,
    "ExecuteTime": {
     "end_time": "2024-11-20T14:39:25.070147Z",
     "start_time": "2024-11-20T14:39:25.062337Z"
    }
   },
   "source": [
    "from tokenizer.ml_based_tokenizer import *\n",
    "import pickle"
   ],
   "outputs": [],
   "execution_count": 3
  },
  {
   "metadata": {
    "ExecuteTime": {
     "end_time": "2024-11-20T14:39:58.068531Z",
     "start_time": "2024-11-20T14:39:58.064870Z"
    }
   },
   "cell_type": "code",
   "source": "import pandas as pd",
   "id": "1361fa3aa52b4d68",
   "outputs": [],
   "execution_count": 4
  },
  {
   "metadata": {},
   "cell_type": "code",
   "outputs": [],
   "execution_count": null,
   "source": [
    "# Initialize empty dictionaries\n",
    "token_counts = {}\n",
    "replacement_dict = {}\n",
    "\n",
    "# Files used to build dictionaries\n",
    "boun_train = \"../corpora/UD_Turkish-BOUN/tr_boun-ud-train.conllu\"\n",
    "boun_dev = \"../corpora/UD_Turkish-BOUN/tr_boun-ud-dev.conllu\"\n",
    "# boun_test = \"../corpora/UD_Turkish-BOUN/tr_boun-ud-test.conllu\"\n",
    "penn_train = \"../corpora/UD_Turkish-Penn/tr_penn-ud-train.conllu\"\n",
    "penn_dev = \"../corpora/UD_Turkish-Penn/tr_penn-ud-dev.conllu\"\n",
    "penn_test = \"../corpora/UD_Turkish-Penn/tr_penn-ud-test.conllu\"\n",
    "\n",
    "# file_paths = [boun_train, boun_dev, boun_test, penn_train, penn_dev, penn_test]\n",
    "file_paths = [boun_train, boun_dev, penn_train, penn_dev, penn_test]\n",
    "\n",
    "print(\"Building MWE dictionary using files:\")\n",
    "for file_path in file_paths:\n",
    "    print(\"\\t\" + file_path)\n",
    "print()\n",
    "\n",
    "# Build dictionaries from files\n",
    "for file_path in file_paths:\n",
    "    # print(file_path)\n",
    "    build_suffix_and_replacement_lexicon(file_path, suffix_dict, replacement_dict)\n",
    "\n",
    "# Compile replacement dictionary (handles duplicates)\n",
    "compile_replacement_dict(replacement_dict)\n",
    "\n",
    "# Export the dictionaries to files using pickle\n",
    "suffix_export_path = \"./suffix_dict.pkl\"\n",
    "with open(suffix_export_path, \"wb\") as file:\n",
    "    pickle.dump(suffix_dict, file)\n",
    "    print(f\"Build completed, suffix dictionary exported to file:\\n\\t{suffix_export_path}\")\n",
    "\n",
    "replacement_export_path = \"./replacement_dict.pkl\"\n",
    "with open(replacement_export_path, \"wb\") as file:\n",
    "    pickle.dump(replacement_dict, file)\n",
    "    print(f\"Build completed, replacement dictionary exported to file:\\n\\t{replacement_export_path}\")"
   ],
   "id": "3f6f4c612671841"
  }
 ],
 "metadata": {
  "kernelspec": {
   "display_name": "Python 3",
   "language": "python",
   "name": "python3"
  },
  "language_info": {
   "codemirror_mode": {
    "name": "ipython",
    "version": 2
   },
   "file_extension": ".py",
   "mimetype": "text/x-python",
   "name": "python",
   "nbconvert_exporter": "python",
   "pygments_lexer": "ipython2",
   "version": "2.7.6"
  }
 },
 "nbformat": 4,
 "nbformat_minor": 5
}
